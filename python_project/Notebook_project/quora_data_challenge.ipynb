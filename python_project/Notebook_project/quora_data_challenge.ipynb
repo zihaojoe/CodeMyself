{
 "cells": [
  {
   "cell_type": "code",
   "execution_count": 1,
   "metadata": {},
   "outputs": [],
   "source": [
    "import pandas as pd\n",
    "import numpy as np\n",
    "import seaborn as sns\n",
    "import matplotlib.pyplot as plt\n",
    "from math import sqrt\n",
    "from math import exp"
   ]
  },
  {
   "cell_type": "markdown",
   "metadata": {},
   "source": [
    "# Tables\n",
    "### t1_user_active_min.csv\n",
    "This table contains active minutes data logged after experiment started.\n",
    "Each row represents the total number of minutes spent on site for each user on a date.\n",
    "If a user never visited the site for a given date, there wouldn't be data for that uid on that date.\n",
    "- uid: user ID\n",
    "- dt: date when corresponding active minutes are registered\n",
    "- active_mins: number of minutes spent on site for the date"
   ]
  },
  {
   "cell_type": "code",
   "execution_count": 2,
   "metadata": {},
   "outputs": [
    {
     "data": {
      "text/html": [
       "<div>\n",
       "<style scoped>\n",
       "    .dataframe tbody tr th:only-of-type {\n",
       "        vertical-align: middle;\n",
       "    }\n",
       "\n",
       "    .dataframe tbody tr th {\n",
       "        vertical-align: top;\n",
       "    }\n",
       "\n",
       "    .dataframe thead th {\n",
       "        text-align: right;\n",
       "    }\n",
       "</style>\n",
       "<table border=\"1\" class=\"dataframe\">\n",
       "  <thead>\n",
       "    <tr style=\"text-align: right;\">\n",
       "      <th></th>\n",
       "      <th>uid</th>\n",
       "      <th>dt</th>\n",
       "      <th>active_mins</th>\n",
       "    </tr>\n",
       "  </thead>\n",
       "  <tbody>\n",
       "    <tr>\n",
       "      <th>0</th>\n",
       "      <td>0</td>\n",
       "      <td>2019-02-22</td>\n",
       "      <td>5.0</td>\n",
       "    </tr>\n",
       "    <tr>\n",
       "      <th>1</th>\n",
       "      <td>0</td>\n",
       "      <td>2019-03-11</td>\n",
       "      <td>5.0</td>\n",
       "    </tr>\n",
       "    <tr>\n",
       "      <th>2</th>\n",
       "      <td>0</td>\n",
       "      <td>2019-03-18</td>\n",
       "      <td>3.0</td>\n",
       "    </tr>\n",
       "    <tr>\n",
       "      <th>3</th>\n",
       "      <td>0</td>\n",
       "      <td>2019-03-22</td>\n",
       "      <td>4.0</td>\n",
       "    </tr>\n",
       "    <tr>\n",
       "      <th>4</th>\n",
       "      <td>0</td>\n",
       "      <td>2019-04-03</td>\n",
       "      <td>9.0</td>\n",
       "    </tr>\n",
       "  </tbody>\n",
       "</table>\n",
       "</div>"
      ],
      "text/plain": [
       "   uid         dt  active_mins\n",
       "0    0 2019-02-22          5.0\n",
       "1    0 2019-03-11          5.0\n",
       "2    0 2019-03-18          3.0\n",
       "3    0 2019-03-22          4.0\n",
       "4    0 2019-04-03          9.0"
      ]
     },
     "execution_count": 2,
     "metadata": {},
     "output_type": "execute_result"
    }
   ],
   "source": [
    "t1 = pd.read_csv(\"t1_user_active_min.csv\")\n",
    "# convert date column to datetime type\n",
    "t1['dt'] =  pd.to_datetime(t1['dt'], format='%Y-%m-%d')\n",
    "t1.head()"
   ]
  },
  {
   "cell_type": "markdown",
   "metadata": {},
   "source": [
    "### t2_user_variant.csv\n",
    "This table contains users’ treatment assignment.\n",
    "Each row represents the assignment information for a unique user.\n",
    "- uid: user ID\n",
    "- variant_number: the experiment variant user is in. 0 for control, 1 for treatment\n",
    "- dt: date when user entered the experiment, should be ‘2019-02-06’ for all users\n",
    "- signup_date: the date string that user signed up on"
   ]
  },
  {
   "cell_type": "code",
   "execution_count": 3,
   "metadata": {},
   "outputs": [
    {
     "data": {
      "text/html": [
       "<div>\n",
       "<style scoped>\n",
       "    .dataframe tbody tr th:only-of-type {\n",
       "        vertical-align: middle;\n",
       "    }\n",
       "\n",
       "    .dataframe tbody tr th {\n",
       "        vertical-align: top;\n",
       "    }\n",
       "\n",
       "    .dataframe thead th {\n",
       "        text-align: right;\n",
       "    }\n",
       "</style>\n",
       "<table border=\"1\" class=\"dataframe\">\n",
       "  <thead>\n",
       "    <tr style=\"text-align: right;\">\n",
       "      <th></th>\n",
       "      <th>uid</th>\n",
       "      <th>variant_number</th>\n",
       "      <th>dt</th>\n",
       "      <th>signup_date</th>\n",
       "    </tr>\n",
       "  </thead>\n",
       "  <tbody>\n",
       "    <tr>\n",
       "      <th>0</th>\n",
       "      <td>0</td>\n",
       "      <td>0</td>\n",
       "      <td>2019-02-06</td>\n",
       "      <td>2018-09-24</td>\n",
       "    </tr>\n",
       "    <tr>\n",
       "      <th>1</th>\n",
       "      <td>1</td>\n",
       "      <td>0</td>\n",
       "      <td>2019-02-06</td>\n",
       "      <td>2016-11-07</td>\n",
       "    </tr>\n",
       "    <tr>\n",
       "      <th>2</th>\n",
       "      <td>2</td>\n",
       "      <td>0</td>\n",
       "      <td>2019-02-06</td>\n",
       "      <td>2018-09-17</td>\n",
       "    </tr>\n",
       "    <tr>\n",
       "      <th>3</th>\n",
       "      <td>3</td>\n",
       "      <td>0</td>\n",
       "      <td>2019-02-06</td>\n",
       "      <td>2018-03-04</td>\n",
       "    </tr>\n",
       "    <tr>\n",
       "      <th>4</th>\n",
       "      <td>4</td>\n",
       "      <td>0</td>\n",
       "      <td>2019-02-06</td>\n",
       "      <td>2017-03-09</td>\n",
       "    </tr>\n",
       "  </tbody>\n",
       "</table>\n",
       "</div>"
      ],
      "text/plain": [
       "   uid  variant_number         dt signup_date\n",
       "0    0               0 2019-02-06  2018-09-24\n",
       "1    1               0 2019-02-06  2016-11-07\n",
       "2    2               0 2019-02-06  2018-09-17\n",
       "3    3               0 2019-02-06  2018-03-04\n",
       "4    4               0 2019-02-06  2017-03-09"
      ]
     },
     "execution_count": 3,
     "metadata": {},
     "output_type": "execute_result"
    }
   ],
   "source": [
    "t2 = pd.read_csv(\"t2_user_variant.csv\")\n",
    "# convert date column to datetime type\n",
    "t2['dt'] =  pd.to_datetime(t2['dt'], format='%Y-%m-%d')\n",
    "t2['signup_date'] =  pd.to_datetime(t2['signup_date'], format='%Y-%m-%d')\n",
    "t2.head()"
   ]
  },
  {
   "cell_type": "markdown",
   "metadata": {},
   "source": [
    "### t3_user_active_min_pre.csv\n",
    "This table contains active minutes data before the experiment started.\n",
    "It has a similar format as t1, except the dt range can extend before the experiment start date.\n",
    "- uid: user ID\n",
    "- dt: date when corresponding active minutes are registered\n",
    "- active_mins: number of minutes spent on site for the date"
   ]
  },
  {
   "cell_type": "code",
   "execution_count": 4,
   "metadata": {},
   "outputs": [
    {
     "data": {
      "text/html": [
       "<div>\n",
       "<style scoped>\n",
       "    .dataframe tbody tr th:only-of-type {\n",
       "        vertical-align: middle;\n",
       "    }\n",
       "\n",
       "    .dataframe tbody tr th {\n",
       "        vertical-align: top;\n",
       "    }\n",
       "\n",
       "    .dataframe thead th {\n",
       "        text-align: right;\n",
       "    }\n",
       "</style>\n",
       "<table border=\"1\" class=\"dataframe\">\n",
       "  <thead>\n",
       "    <tr style=\"text-align: right;\">\n",
       "      <th></th>\n",
       "      <th>uid</th>\n",
       "      <th>dt</th>\n",
       "      <th>active_mins</th>\n",
       "    </tr>\n",
       "  </thead>\n",
       "  <tbody>\n",
       "    <tr>\n",
       "      <th>0</th>\n",
       "      <td>0</td>\n",
       "      <td>2018-09-24</td>\n",
       "      <td>3.0</td>\n",
       "    </tr>\n",
       "    <tr>\n",
       "      <th>1</th>\n",
       "      <td>0</td>\n",
       "      <td>2018-11-08</td>\n",
       "      <td>4.0</td>\n",
       "    </tr>\n",
       "    <tr>\n",
       "      <th>2</th>\n",
       "      <td>0</td>\n",
       "      <td>2018-11-24</td>\n",
       "      <td>3.0</td>\n",
       "    </tr>\n",
       "    <tr>\n",
       "      <th>3</th>\n",
       "      <td>0</td>\n",
       "      <td>2018-11-28</td>\n",
       "      <td>6.0</td>\n",
       "    </tr>\n",
       "    <tr>\n",
       "      <th>4</th>\n",
       "      <td>0</td>\n",
       "      <td>2018-12-02</td>\n",
       "      <td>6.0</td>\n",
       "    </tr>\n",
       "  </tbody>\n",
       "</table>\n",
       "</div>"
      ],
      "text/plain": [
       "   uid         dt  active_mins\n",
       "0    0 2018-09-24          3.0\n",
       "1    0 2018-11-08          4.0\n",
       "2    0 2018-11-24          3.0\n",
       "3    0 2018-11-28          6.0\n",
       "4    0 2018-12-02          6.0"
      ]
     },
     "execution_count": 4,
     "metadata": {},
     "output_type": "execute_result"
    }
   ],
   "source": [
    "t3 = pd.read_csv(\"t3_user_active_min_pre.csv\")\n",
    "# convert date column to datetime type\n",
    "t3['dt'] =  pd.to_datetime(t3['dt'], format='%Y-%m-%d')\n",
    "t3.head()"
   ]
  },
  {
   "cell_type": "markdown",
   "metadata": {},
   "source": [
    "### t4_user_attributes.csv\n",
    "This table contains data about some user attributes.\n",
    "Each row represents attributes of a unique user.\n",
    "- uid: user ID\n",
    "- user_type: segment that a user belongs to, measured by activity level of the user. Can be ‘new_user’, ‘non_reader’, ‘reader’ or ‘contributor’\n",
    "- gender: user gender. Can be ‘male’, ‘female’ or ‘unknown’"
   ]
  },
  {
   "cell_type": "code",
   "execution_count": 5,
   "metadata": {},
   "outputs": [
    {
     "data": {
      "text/html": [
       "<div>\n",
       "<style scoped>\n",
       "    .dataframe tbody tr th:only-of-type {\n",
       "        vertical-align: middle;\n",
       "    }\n",
       "\n",
       "    .dataframe tbody tr th {\n",
       "        vertical-align: top;\n",
       "    }\n",
       "\n",
       "    .dataframe thead th {\n",
       "        text-align: right;\n",
       "    }\n",
       "</style>\n",
       "<table border=\"1\" class=\"dataframe\">\n",
       "  <thead>\n",
       "    <tr style=\"text-align: right;\">\n",
       "      <th></th>\n",
       "      <th>uid</th>\n",
       "      <th>gender</th>\n",
       "      <th>user_type</th>\n",
       "    </tr>\n",
       "  </thead>\n",
       "  <tbody>\n",
       "    <tr>\n",
       "      <th>0</th>\n",
       "      <td>0</td>\n",
       "      <td>male</td>\n",
       "      <td>non_reader</td>\n",
       "    </tr>\n",
       "    <tr>\n",
       "      <th>1</th>\n",
       "      <td>1</td>\n",
       "      <td>male</td>\n",
       "      <td>reader</td>\n",
       "    </tr>\n",
       "    <tr>\n",
       "      <th>2</th>\n",
       "      <td>2</td>\n",
       "      <td>male</td>\n",
       "      <td>non_reader</td>\n",
       "    </tr>\n",
       "    <tr>\n",
       "      <th>3</th>\n",
       "      <td>3</td>\n",
       "      <td>male</td>\n",
       "      <td>non_reader</td>\n",
       "    </tr>\n",
       "    <tr>\n",
       "      <th>4</th>\n",
       "      <td>4</td>\n",
       "      <td>male</td>\n",
       "      <td>non_reader</td>\n",
       "    </tr>\n",
       "  </tbody>\n",
       "</table>\n",
       "</div>"
      ],
      "text/plain": [
       "   uid gender   user_type\n",
       "0    0   male  non_reader\n",
       "1    1   male      reader\n",
       "2    2   male  non_reader\n",
       "3    3   male  non_reader\n",
       "4    4   male  non_reader"
      ]
     },
     "execution_count": 5,
     "metadata": {},
     "output_type": "execute_result"
    }
   ],
   "source": [
    "t4 = pd.read_csv(\"t4_user_attributes.csv\")\n",
    "t4.head()"
   ]
  },
  {
   "cell_type": "markdown",
   "metadata": {},
   "source": [
    "## Problem 1\n",
    "1.In order to measure the experiment effect on user engagement, let's say you want to perform a t-test of the difference in minutes spent on site, what would be your unit of analysis (i.e. when conducting a t-test, we calculate means and variances of two samples. What does each data point represent in the samples?)? <br>\n",
    "**A.** Minutes per user in each group (number of data points in each group = number of users in that group) <br>\n",
    "**B.** Minutes per user per day in each group (number of data points in each group = number of users in that group x number of days of the experiment) <br>\n",
    "**C.** Minutes per group per day (number of data points in each group = number of days of the experiment) <br>\n",
    "\n",
    "*Why do you think the other choices are not correct? Hint: think of the key assumptions of running a t-test.*"
   ]
  },
  {
   "cell_type": "markdown",
   "metadata": {},
   "source": [
    "### Answer\n",
    "**C**\n",
    "<p>The key assumption of t test is that the testing population should be normal. The only normal distributed metric here is the minutes per group per day. Because the active time of user A is independent to that of user B, aggregating by day taking mean of active time will be a normal distribution according to central limit theorem. </p>\n",
    "<p>The distribution of B is not normal for sure. Because most of the time people won't login, so the distribution will be highly skwed to left, similar to exponential distribution. </p>\n",
    "<p>For A, active time for a single user will not be independent across day. Therefore, taking the mean of active time aggregating by user will not normal distributed.</p>"
   ]
  },
  {
   "cell_type": "markdown",
   "metadata": {},
   "source": [
    "## Problem 2\n",
    "Use only tables 1 (t1_user_active_min.csv) and 2 (t2_user_variant.csv) for this question. \n",
    "<p> We suspect that there might be inaccuracies in the minutes spent on site data in some rows. Think about the definition of the metric and check if there are any outliers in the data. In this context, outliers mean numbers that are obviously different due to logging errors. If so, remove them; if not, use all the data. </p>\n",
    "\n",
    "<p>Using t-test under your assumption about variance, find an appropriate 95% confidence interval of the overall average treatment effect (i.e. difference in TOTAL active minutes between test and control, during the entire duration of the experiment).</p>\n",
    "\n",
    "<p>Enter the confidence interval below. Please round your answer to second place after the decimal.\n",
    "Based on your findings, what is your recommended course of action regarding the new UI design? You can justify your\n",
    "choice in the next box. </p>\n",
    "\n",
    "<p>Justify your answer.</p>"
   ]
  },
  {
   "cell_type": "code",
   "execution_count": 6,
   "metadata": {},
   "outputs": [],
   "source": [
    "t_control = t2[t2.variant_number==0]\n",
    "t_test = t2[t2.variant_number==1]\n",
    "t_control = t_control.merge(t1,on='uid')\n",
    "t_test = t_test.merge(t1,on='uid')"
   ]
  },
  {
   "cell_type": "code",
   "execution_count": 7,
   "metadata": {},
   "outputs": [
    {
     "data": {
      "text/plain": [
       "(40000, 4)"
      ]
     },
     "execution_count": 7,
     "metadata": {},
     "output_type": "execute_result"
    }
   ],
   "source": [
    "t2[t2.variant_number==0].shape"
   ]
  },
  {
   "cell_type": "code",
   "execution_count": 8,
   "metadata": {},
   "outputs": [
    {
     "data": {
      "text/plain": [
       "(10000, 4)"
      ]
     },
     "execution_count": 8,
     "metadata": {},
     "output_type": "execute_result"
    }
   ],
   "source": [
    "t2[t2.variant_number==1].shape"
   ]
  },
  {
   "cell_type": "code",
   "execution_count": 9,
   "metadata": {},
   "outputs": [
    {
     "data": {
      "image/png": "[encoded data removed]",
      "text/plain": [
       "<Figure size 1152x576 with 1 Axes>"
      ]
     },
     "metadata": {
      "needs_background": "light"
     },
     "output_type": "display_data"
    }
   ],
   "source": [
    "# Control Group\n",
    "fig, ax = plt.subplots(figsize=(16,8))\n",
    "ax.scatter(t_control['uid'], t_control['active_mins'])\n",
    "ax.set_xlabel('uid')\n",
    "ax.set_ylabel('Active Mins')\n",
    "plt.show()\n",
    "# There are several outliers for sure so we should remove them"
   ]
  },
  {
   "cell_type": "code",
   "execution_count": 10,
   "metadata": {},
   "outputs": [
    {
     "data": {
      "image/png": "[encoded data removed]",
      "text/plain": [
       "<Figure size 1152x576 with 1 Axes>"
      ]
     },
     "metadata": {
      "needs_background": "light"
     },
     "output_type": "display_data"
    }
   ],
   "source": [
    "# Test Group\n",
    "fig, ax = plt.subplots(figsize=(16,8))\n",
    "ax.scatter(t_test['uid'], t_test['active_mins'])\n",
    "ax.set_xlabel('uid')\n",
    "ax.set_ylabel('Active Mins')\n",
    "plt.show()\n",
    "# There are several outliers for sure so we should remove them"
   ]
  },
  {
   "cell_type": "code",
   "execution_count": 11,
   "metadata": {},
   "outputs": [],
   "source": [
    "# Remove the outliers by fixed number because of clear outliers\n",
    "t_control_clean = t_control[t_control['active_mins'] <= 50000]"
   ]
  },
  {
   "cell_type": "code",
   "execution_count": 12,
   "metadata": {},
   "outputs": [],
   "source": [
    "t_test_clean = t_test[t_test['active_mins'] <= 50000]"
   ]
  },
  {
   "cell_type": "code",
   "execution_count": 13,
   "metadata": {},
   "outputs": [
    {
     "data": {
      "text/plain": [
       "(179415, 6)"
      ]
     },
     "execution_count": 13,
     "metadata": {},
     "output_type": "execute_result"
    }
   ],
   "source": [
    "t_test_clean.shape"
   ]
  },
  {
   "cell_type": "code",
   "execution_count": 14,
   "metadata": {},
   "outputs": [
    {
     "data": {
      "text/plain": [
       "(886815, 6)"
      ]
     },
     "execution_count": 14,
     "metadata": {},
     "output_type": "execute_result"
    }
   ],
   "source": [
    "t_control_clean.shape"
   ]
  },
  {
   "cell_type": "code",
   "execution_count": 15,
   "metadata": {},
   "outputs": [],
   "source": [
    "t_control_clean.columns = [\"uid\",\"variant_number\",'experiment_dt',\"signup_date\",\"dt\",\"active_mins\"]\n",
    "t_test_clean.columns = [\"uid\",\"variant_number\",'experiment_dt',\"signup_date\",\"dt\",\"active_mins\"]"
   ]
  },
  {
   "cell_type": "code",
   "execution_count": 16,
   "metadata": {},
   "outputs": [
    {
     "data": {
      "text/html": [
       "<div>\n",
       "<style scoped>\n",
       "    .dataframe tbody tr th:only-of-type {\n",
       "        vertical-align: middle;\n",
       "    }\n",
       "\n",
       "    .dataframe tbody tr th {\n",
       "        vertical-align: top;\n",
       "    }\n",
       "\n",
       "    .dataframe thead th {\n",
       "        text-align: right;\n",
       "    }\n",
       "</style>\n",
       "<table border=\"1\" class=\"dataframe\">\n",
       "  <thead>\n",
       "    <tr style=\"text-align: right;\">\n",
       "      <th></th>\n",
       "      <th>dt</th>\n",
       "      <th>active_mins</th>\n",
       "    </tr>\n",
       "  </thead>\n",
       "  <tbody>\n",
       "    <tr>\n",
       "      <th>0</th>\n",
       "      <td>2019-02-06</td>\n",
       "      <td>28.474670</td>\n",
       "    </tr>\n",
       "    <tr>\n",
       "      <th>1</th>\n",
       "      <td>2019-02-07</td>\n",
       "      <td>27.436468</td>\n",
       "    </tr>\n",
       "    <tr>\n",
       "      <th>2</th>\n",
       "      <td>2019-02-08</td>\n",
       "      <td>27.181484</td>\n",
       "    </tr>\n",
       "    <tr>\n",
       "      <th>3</th>\n",
       "      <td>2019-02-09</td>\n",
       "      <td>26.838880</td>\n",
       "    </tr>\n",
       "    <tr>\n",
       "      <th>4</th>\n",
       "      <td>2019-02-10</td>\n",
       "      <td>27.444191</td>\n",
       "    </tr>\n",
       "  </tbody>\n",
       "</table>\n",
       "</div>"
      ],
      "text/plain": [
       "          dt  active_mins\n",
       "0 2019-02-06    28.474670\n",
       "1 2019-02-07    27.436468\n",
       "2 2019-02-08    27.181484\n",
       "3 2019-02-09    26.838880\n",
       "4 2019-02-10    27.444191"
      ]
     },
     "execution_count": 16,
     "metadata": {},
     "output_type": "execute_result"
    }
   ],
   "source": [
    "control_per_day = t_control_clean.groupby(\"dt\").active_mins.mean().reset_index()\n",
    "test_per_day = t_test_clean.groupby(\"dt\").active_mins.mean().reset_index()\n",
    "test_per_day.head()"
   ]
  },
  {
   "cell_type": "code",
   "execution_count": 17,
   "metadata": {},
   "outputs": [
    {
     "data": {
      "text/plain": [
       "<matplotlib.axes._subplots.AxesSubplot at 0x1a164212e8>"
      ]
     },
     "execution_count": 17,
     "metadata": {},
     "output_type": "execute_result"
    },
    {
     "data": {
      "image/png": "[encoded data removed]",
      "text/plain": [
       "<Figure size 432x288 with 1 Axes>"
      ]
     },
     "metadata": {
      "needs_background": "light"
     },
     "output_type": "display_data"
    }
   ],
   "source": [
    "test_per_day.active_mins.hist()"
   ]
  },
  {
   "cell_type": "code",
   "execution_count": 18,
   "metadata": {},
   "outputs": [
    {
     "data": {
      "text/plain": [
       "<matplotlib.axes._subplots.AxesSubplot at 0x1a16a74e80>"
      ]
     },
     "execution_count": 18,
     "metadata": {},
     "output_type": "execute_result"
    },
    {
     "data": {
      "image/png": "[encoded data removed]",
      "text/plain": [
       "<Figure size 432x288 with 1 Axes>"
      ]
     },
     "metadata": {
      "needs_background": "light"
     },
     "output_type": "display_data"
    }
   ],
   "source": [
    "control_per_day.active_mins.hist()"
   ]
  },
  {
   "cell_type": "code",
   "execution_count": 19,
   "metadata": {},
   "outputs": [
    {
     "name": "stdout",
     "output_type": "stream",
     "text": [
      "[3.59, 4.59]\n"
     ]
    }
   ],
   "source": [
    "x1 = control_per_day.active_mins.mean()\n",
    "s1 = control_per_day.active_mins.std()\n",
    "N1 = control_per_day.shape[0]\n",
    "\n",
    "x2 = test_per_day.active_mins.mean()\n",
    "s2 = test_per_day.active_mins.std()\n",
    "N2 = test_per_day.shape[0]\n",
    "\n",
    "v = N1+N2 - 2\n",
    "\n",
    "s_pool = sqrt(((N1-1)*s1**2 + (N2-1)*s2**2)/v)\n",
    "\n",
    "#since v is large enough\n",
    "t_q = 1.96\n",
    "\n",
    "# Variance between two groups will not be the same because of testing feature\n",
    "lower = round(x2 - x1 - t_q*sqrt(s1**2/N1 + s2**2/N2),2)\n",
    "upper = round(x2 - x1 + t_q*sqrt(s1**2/N1 + s2**2/N2),2)\n",
    "print(\"[\" + str(lower) + \", \"+str(upper)+\"]\")"
   ]
  },
  {
   "cell_type": "code",
   "execution_count": 73,
   "metadata": {},
   "outputs": [
    {
     "data": {
      "text/plain": [
       "<matplotlib.axes._subplots.AxesSubplot at 0x1a2cb53d30>"
      ]
     },
     "execution_count": 73,
     "metadata": {},
     "output_type": "execute_result"
    },
    {
     "data": {
      "image/png": "[encoded data removed]",
      "text/plain": [
       "<Figure size 432x288 with 1 Axes>"
      ]
     },
     "metadata": {
      "needs_background": "light"
     },
     "output_type": "display_data"
    }
   ],
   "source": [
    "# Test Group\n",
    "t_test_clean.active_mins.hist()"
   ]
  },
  {
   "cell_type": "code",
   "execution_count": 74,
   "metadata": {},
   "outputs": [
    {
     "data": {
      "text/plain": [
       "<matplotlib.axes._subplots.AxesSubplot at 0x1a2cd8d9b0>"
      ]
     },
     "execution_count": 74,
     "metadata": {},
     "output_type": "execute_result"
    },
    {
     "data": {
      "image/png": "[encoded data removed]",
      "text/plain": [
       "<Figure size 432x288 with 1 Axes>"
      ]
     },
     "metadata": {
      "needs_background": "light"
     },
     "output_type": "display_data"
    }
   ],
   "source": [
    "t_control_clean.active_mins.hist()"
   ]
  },
  {
   "cell_type": "markdown",
   "metadata": {},
   "source": [
    "## Problem 3\n",
    "<p>3.You decide to dive deeper into the data, so you gather a table of active minutes by user from before the experiment\n",
    "began. You should now use table 3 (t3_user_active_min_pre.csv) along with tables 1 and 2 for this question.</p>\n",
    "<p>Using the statistical method of your choice and the pre-experiment data, update your 95% confidence interval of the\n",
    "overall average treatment effect (difference in TOTAL active minutes).</p>\n",
    "<p>Please enter your confidence interval below, after rounding your answer to second place after the decimal.  \n",
    "How does the pre-experiment data change your conclusion about the treatment effect of the experiment?  \n",
    "What method do you use to compute your updated treatment effect?  </p>"
   ]
  },
  {
   "cell_type": "code",
   "execution_count": 20,
   "metadata": {},
   "outputs": [],
   "source": [
    "# Separate two groups\n",
    "control_pre = t3[t3.uid.isin(t_control_clean.uid)]\n",
    "test_pre = t3[t3.uid.isin(t_test_clean.uid)]\n"
   ]
  },
  {
   "cell_type": "code",
   "execution_count": 21,
   "metadata": {},
   "outputs": [
    {
     "data": {
      "image/png": "[encoded data removed]",
      "text/plain": [
       "<Figure size 1152x576 with 1 Axes>"
      ]
     },
     "metadata": {
      "needs_background": "light"
     },
     "output_type": "display_data"
    }
   ],
   "source": [
    "# Remove outliers\n",
    "fig, ax = plt.subplots(figsize=(16,8))\n",
    "ax.scatter(control_pre['uid'], control_pre['active_mins'])\n",
    "ax.set_xlabel('uid')\n",
    "ax.set_ylabel('Active Mins')\n",
    "plt.show()"
   ]
  },
  {
   "cell_type": "code",
   "execution_count": 22,
   "metadata": {},
   "outputs": [],
   "source": [
    "# Remove the logging error\n",
    "control_pre_clean = control_pre[control_pre['active_mins'] <=50000]\n",
    "\n",
    "test_pre_clean = test_pre[test_pre['active_mins'] <= 50000]\n"
   ]
  },
  {
   "cell_type": "code",
   "execution_count": 23,
   "metadata": {},
   "outputs": [
    {
     "data": {
      "text/html": [
       "<div>\n",
       "<style scoped>\n",
       "    .dataframe tbody tr th:only-of-type {\n",
       "        vertical-align: middle;\n",
       "    }\n",
       "\n",
       "    .dataframe tbody tr th {\n",
       "        vertical-align: top;\n",
       "    }\n",
       "\n",
       "    .dataframe thead th {\n",
       "        text-align: right;\n",
       "    }\n",
       "</style>\n",
       "<table border=\"1\" class=\"dataframe\">\n",
       "  <thead>\n",
       "    <tr style=\"text-align: right;\">\n",
       "      <th></th>\n",
       "      <th>uid</th>\n",
       "      <th>dt</th>\n",
       "      <th>active_mins</th>\n",
       "    </tr>\n",
       "  </thead>\n",
       "  <tbody>\n",
       "    <tr>\n",
       "      <th>989489</th>\n",
       "      <td>40001</td>\n",
       "      <td>2018-08-12</td>\n",
       "      <td>1.0</td>\n",
       "    </tr>\n",
       "    <tr>\n",
       "      <th>989490</th>\n",
       "      <td>40001</td>\n",
       "      <td>2018-08-21</td>\n",
       "      <td>1.0</td>\n",
       "    </tr>\n",
       "    <tr>\n",
       "      <th>989491</th>\n",
       "      <td>40001</td>\n",
       "      <td>2018-09-21</td>\n",
       "      <td>5.0</td>\n",
       "    </tr>\n",
       "    <tr>\n",
       "      <th>989492</th>\n",
       "      <td>40001</td>\n",
       "      <td>2018-09-23</td>\n",
       "      <td>3.0</td>\n",
       "    </tr>\n",
       "    <tr>\n",
       "      <th>989493</th>\n",
       "      <td>40001</td>\n",
       "      <td>2018-10-03</td>\n",
       "      <td>1.0</td>\n",
       "    </tr>\n",
       "  </tbody>\n",
       "</table>\n",
       "</div>"
      ],
      "text/plain": [
       "          uid         dt  active_mins\n",
       "989489  40001 2018-08-12          1.0\n",
       "989490  40001 2018-08-21          1.0\n",
       "989491  40001 2018-09-21          5.0\n",
       "989492  40001 2018-09-23          3.0\n",
       "989493  40001 2018-10-03          1.0"
      ]
     },
     "execution_count": 23,
     "metadata": {},
     "output_type": "execute_result"
    }
   ],
   "source": [
    "test_pre_clean.head()"
   ]
  },
  {
   "cell_type": "code",
   "execution_count": 24,
   "metadata": {},
   "outputs": [
    {
     "data": {
      "text/html": [
       "<div>\n",
       "<style scoped>\n",
       "    .dataframe tbody tr th:only-of-type {\n",
       "        vertical-align: middle;\n",
       "    }\n",
       "\n",
       "    .dataframe tbody tr th {\n",
       "        vertical-align: top;\n",
       "    }\n",
       "\n",
       "    .dataframe thead th {\n",
       "        text-align: right;\n",
       "    }\n",
       "</style>\n",
       "<table border=\"1\" class=\"dataframe\">\n",
       "  <thead>\n",
       "    <tr style=\"text-align: right;\">\n",
       "      <th></th>\n",
       "      <th>dt</th>\n",
       "      <th>active_mins</th>\n",
       "    </tr>\n",
       "  </thead>\n",
       "  <tbody>\n",
       "    <tr>\n",
       "      <th>0</th>\n",
       "      <td>2018-08-10</td>\n",
       "      <td>20.275055</td>\n",
       "    </tr>\n",
       "    <tr>\n",
       "      <th>1</th>\n",
       "      <td>2018-08-11</td>\n",
       "      <td>18.906236</td>\n",
       "    </tr>\n",
       "    <tr>\n",
       "      <th>2</th>\n",
       "      <td>2018-08-12</td>\n",
       "      <td>20.159071</td>\n",
       "    </tr>\n",
       "    <tr>\n",
       "      <th>3</th>\n",
       "      <td>2018-08-13</td>\n",
       "      <td>19.622319</td>\n",
       "    </tr>\n",
       "    <tr>\n",
       "      <th>4</th>\n",
       "      <td>2018-08-14</td>\n",
       "      <td>19.380180</td>\n",
       "    </tr>\n",
       "  </tbody>\n",
       "</table>\n",
       "</div>"
      ],
      "text/plain": [
       "          dt  active_mins\n",
       "0 2018-08-10    20.275055\n",
       "1 2018-08-11    18.906236\n",
       "2 2018-08-12    20.159071\n",
       "3 2018-08-13    19.622319\n",
       "4 2018-08-14    19.380180"
      ]
     },
     "execution_count": 24,
     "metadata": {},
     "output_type": "execute_result"
    }
   ],
   "source": [
    "test_pre_by_dt = test_pre_clean.groupby(\"dt\").active_mins.mean().reset_index()\n",
    "control_pre_by_dt = control_pre_clean.groupby(\"dt\").active_mins.mean().reset_index()\n",
    "control_pre_by_dt.head()"
   ]
  },
  {
   "cell_type": "code",
   "execution_count": 25,
   "metadata": {},
   "outputs": [
    {
     "data": {
      "text/plain": [
       "<matplotlib.axes._subplots.AxesSubplot at 0x1a27a59518>"
      ]
     },
     "execution_count": 25,
     "metadata": {},
     "output_type": "execute_result"
    },
    {
     "data": {
      "image/png": "[encoded data removed]",
      "text/plain": [
       "<Figure size 432x288 with 1 Axes>"
      ]
     },
     "metadata": {
      "needs_background": "light"
     },
     "output_type": "display_data"
    }
   ],
   "source": [
    "control_pre_by_dt.active_mins.hist()"
   ]
  },
  {
   "cell_type": "code",
   "execution_count": 28,
   "metadata": {},
   "outputs": [
    {
     "data": {
      "text/plain": [
       "<matplotlib.axes._subplots.AxesSubplot at 0x1a19808b70>"
      ]
     },
     "execution_count": 28,
     "metadata": {},
     "output_type": "execute_result"
    },
    {
     "data": {
      "image/png": "[encoded data removed]",
      "text/plain": [
       "<Figure size 432x288 with 1 Axes>"
      ]
     },
     "metadata": {
      "needs_background": "light"
     },
     "output_type": "display_data"
    }
   ],
   "source": [
    "test_pre_by_dt.active_mins.hist()"
   ]
  },
  {
   "cell_type": "code",
   "execution_count": 31,
   "metadata": {},
   "outputs": [
    {
     "name": "stdout",
     "output_type": "stream",
     "text": [
      "[-5.78, -5.44]\n"
     ]
    }
   ],
   "source": [
    "x1_pre = control_pre_by_dt.active_mins.mean()\n",
    "s1_pre = control_pre_by_dt.active_mins.std()\n",
    "N1_pre = control_pre_by_dt.shape[0]\n",
    "\n",
    "x2_pre = test_pre_by_dt.active_mins.mean()\n",
    "s2_pre = test_pre_by_dt.active_mins.std()\n",
    "N2_pre = test_pre_by_dt.shape[0]\n",
    "\n",
    "# Assuming inequal variance between two groups\n",
    "v_pre = N1_pre+N2_pre - 2\n",
    "\n",
    "# Since v is large enough\n",
    "t_q = 1.96\n",
    "lower = round(x2_pre - x1_pre - t_q*sqrt(s1_pre**2/N1_pre + s2_pre**2/N2_pre),2)\n",
    "upper = round(x2_pre - x1_pre + t_q*sqrt(s1_pre**2/N1_pre + s2_pre**2/N2_pre),2)\n",
    "print(\"[\" + str(lower) + \", \"+str(upper)+\"]\")"
   ]
  },
  {
   "cell_type": "code",
   "execution_count": 32,
   "metadata": {},
   "outputs": [
    {
     "data": {
      "text/plain": [
       "0.6847158387685539"
      ]
     },
     "execution_count": 32,
     "metadata": {},
     "output_type": "execute_result"
    }
   ],
   "source": [
    "s1_pre"
   ]
  },
  {
   "cell_type": "code",
   "execution_count": 35,
   "metadata": {},
   "outputs": [
    {
     "data": {
      "text/plain": [
       "3.057468029309844"
      ]
     },
     "execution_count": 35,
     "metadata": {},
     "output_type": "execute_result"
    }
   ],
   "source": [
    "s2"
   ]
  },
  {
   "cell_type": "code",
   "execution_count": 36,
   "metadata": {},
   "outputs": [
    {
     "name": "stdout",
     "output_type": "stream",
     "text": [
      "[9.2, 10.2]\n"
     ]
    }
   ],
   "source": [
    "lower = round(x2 - x1 -(x2_pre - x1_pre) - t_q*sqrt(s1**2/N1 + s2**2/N2),2)\n",
    "upper = round(x2 - x1 - (x2_pre - x1_pre)+ t_q*sqrt(s1**2/N1 + s2**2/N2),2)\n",
    "print(\"[\" + str(lower) + \", \"+str(upper)+\"]\")"
   ]
  },
  {
   "cell_type": "markdown",
   "metadata": {},
   "source": [
    "## Problem 4\n",
    "<p>4.In real life, experiment results can be nuanced. We provide you now additionally table 4 (t4_user_attributes.csv), which might help you analyze the results better. You should think about the context of the experiment and hypothesize why the analysis above could be insufficient. Explore the data and share with us your insights!</p>\n",
    "<p>1). Given the new tables, were there any issues in treatment assignment? Was the treatment effect different for different covariates?<br>\n",
    "2). Based on the new findings, what is your conclusion and what product recommendations would you make to the team?</p>\n",
    "<p>Summarize your findings in a brief write-up with up to 200 words, and include one or two plots that best represent your results. Submit a single PDF file, please.</p>"
   ]
  },
  {
   "cell_type": "code",
   "execution_count": 37,
   "metadata": {},
   "outputs": [],
   "source": [
    "control_info = t4[t4.uid.isin(t_control_clean.uid)]\n",
    "test_info = t4[t4.uid.isin(t_test_clean.uid)]"
   ]
  },
  {
   "cell_type": "code",
   "execution_count": 38,
   "metadata": {},
   "outputs": [
    {
     "data": {
      "text/html": [
       "<div>\n",
       "<style scoped>\n",
       "    .dataframe tbody tr th:only-of-type {\n",
       "        vertical-align: middle;\n",
       "    }\n",
       "\n",
       "    .dataframe tbody tr th {\n",
       "        vertical-align: top;\n",
       "    }\n",
       "\n",
       "    .dataframe thead th {\n",
       "        text-align: right;\n",
       "    }\n",
       "</style>\n",
       "<table border=\"1\" class=\"dataframe\">\n",
       "  <thead>\n",
       "    <tr style=\"text-align: right;\">\n",
       "      <th></th>\n",
       "      <th>uid</th>\n",
       "      <th>gender_x</th>\n",
       "      <th>user_type_x</th>\n",
       "      <th>gender_y</th>\n",
       "      <th>user_type_y</th>\n",
       "    </tr>\n",
       "  </thead>\n",
       "  <tbody>\n",
       "  </tbody>\n",
       "</table>\n",
       "</div>"
      ],
      "text/plain": [
       "Empty DataFrame\n",
       "Columns: [uid, gender_x, user_type_x, gender_y, user_type_y]\n",
       "Index: []"
      ]
     },
     "execution_count": 38,
     "metadata": {},
     "output_type": "execute_result"
    }
   ],
   "source": [
    "# No duplication between two groups\n",
    "control_info.merge(test_info,on='uid')"
   ]
  },
  {
   "cell_type": "code",
   "execution_count": 39,
   "metadata": {},
   "outputs": [
    {
     "data": {
      "text/plain": [
       "male       0.561283\n",
       "female     0.286840\n",
       "unknown    0.151877\n",
       "Name: gender, dtype: float64"
      ]
     },
     "execution_count": 39,
     "metadata": {},
     "output_type": "execute_result"
    }
   ],
   "source": [
    "control_info.gender.value_counts(normalize=True)"
   ]
  },
  {
   "cell_type": "code",
   "execution_count": 40,
   "metadata": {},
   "outputs": [
    {
     "data": {
      "text/plain": [
       "non_reader     0.733627\n",
       "reader         0.178624\n",
       "new_user       0.063407\n",
       "contributor    0.024342\n",
       "Name: user_type, dtype: float64"
      ]
     },
     "execution_count": 40,
     "metadata": {},
     "output_type": "execute_result"
    }
   ],
   "source": [
    "control_info.user_type.value_counts(normalize=True)"
   ]
  },
  {
   "cell_type": "code",
   "execution_count": 78,
   "metadata": {},
   "outputs": [
    {
     "data": {
      "text/plain": [
       "male       0.557776\n",
       "female     0.283666\n",
       "unknown    0.158558\n",
       "Name: gender, dtype: float64"
      ]
     },
     "execution_count": 78,
     "metadata": {},
     "output_type": "execute_result"
    }
   ],
   "source": [
    "test_info.gender.value_counts(normalize=True)"
   ]
  },
  {
   "cell_type": "code",
   "execution_count": 79,
   "metadata": {},
   "outputs": [
    {
     "data": {
      "text/plain": [
       "non_reader     0.761620\n",
       "reader         0.136838\n",
       "new_user       0.087750\n",
       "contributor    0.013792\n",
       "Name: user_type, dtype: float64"
      ]
     },
     "execution_count": 79,
     "metadata": {},
     "output_type": "execute_result"
    }
   ],
   "source": [
    "test_info.user_type.value_counts(normalize=True)"
   ]
  },
  {
   "cell_type": "code",
   "execution_count": 80,
   "metadata": {},
   "outputs": [
    {
     "data": {
      "text/plain": [
       "male       0.55514\n",
       "female     0.28954\n",
       "unknown    0.15532\n",
       "Name: gender, dtype: float64"
      ]
     },
     "execution_count": 80,
     "metadata": {},
     "output_type": "execute_result"
    }
   ],
   "source": [
    "t4.gender.value_counts(normalize=True)"
   ]
  },
  {
   "cell_type": "code",
   "execution_count": 81,
   "metadata": {},
   "outputs": [
    {
     "data": {
      "text/plain": [
       "non_reader     0.72132\n",
       "reader         0.16004\n",
       "new_user       0.09776\n",
       "contributor    0.02088\n",
       "Name: user_type, dtype: float64"
      ]
     },
     "execution_count": 81,
     "metadata": {},
     "output_type": "execute_result"
    }
   ],
   "source": [
    "t4.user_type.value_counts(normalize=True)"
   ]
  },
  {
   "cell_type": "code",
   "execution_count": 82,
   "metadata": {},
   "outputs": [
    {
     "data": {
      "text/plain": [
       "male       0.551128\n",
       "female     0.290578\n",
       "unknown    0.158293\n",
       "Name: gender, dtype: float64"
      ]
     },
     "execution_count": 82,
     "metadata": {},
     "output_type": "execute_result"
    }
   ],
   "source": [
    "t4_nonreader = t4[t4.user_type=='non_reader']\n",
    "t4_nonreader.gender.value_counts(normalize=True)"
   ]
  },
  {
   "cell_type": "code",
   "execution_count": 83,
   "metadata": {},
   "outputs": [],
   "source": [
    "t_test_info = t_test_clean.merge(test_info,on='uid')\n",
    "t_test_non_reader = t_test_info[t_test_info.user_type=='non_reader']\n",
    "t_test_reader = t_test_info[t_test_info.user_type=='reader']\n",
    "t_test_new = t_test_info[t_test_info.user_type=='new_user']\n",
    "t_test_contr = t_test_info[t_test_info.user_type=='contributor']"
   ]
  },
  {
   "cell_type": "code",
   "execution_count": 84,
   "metadata": {},
   "outputs": [
    {
     "data": {
      "text/plain": [
       "male       0.606613\n",
       "female     0.243458\n",
       "unknown    0.149929\n",
       "Name: gender, dtype: float64"
      ]
     },
     "execution_count": 84,
     "metadata": {},
     "output_type": "execute_result"
    }
   ],
   "source": [
    "t_test_non_reader.gender.value_counts(normalize=True)"
   ]
  },
  {
   "cell_type": "code",
   "execution_count": 85,
   "metadata": {},
   "outputs": [
    {
     "name": "stdout",
     "output_type": "stream",
     "text": [
      "Testing Group\n",
      "Non_reader: 10.432543741344508\n",
      "Reader: 42.18685920828555\n",
      "New_user: 9.25145945945946\n",
      "Contributor: 88.38433111603844\n"
     ]
    }
   ],
   "source": [
    "print(\"Testing Group\")\n",
    "print(\"Non_reader: \"+ str(t_test_non_reader.active_mins.mean()))\n",
    "print(\"Reader: \"+ str(t_test_reader.active_mins.mean()))\n",
    "print(\"New_user: \"+ str(t_test_new.active_mins.mean()))\n",
    "print(\"Contributor: \"+ str(t_test_contr.active_mins.mean()))"
   ]
  },
  {
   "cell_type": "code",
   "execution_count": null,
   "metadata": {},
   "outputs": [],
   "source": [
    "t_control_info = t_control_clean.merge(control_info,on='uid')\n",
    "t_control_non_reader = t_control_info[t_control_info.user_type=='non_reader']\n",
    "t_control_reader = t_control_info[t_control_info.user_type=='reader']\n",
    "t_control_new = t_control_info[t_control_info.user_type=='new_user']\n",
    "t_control_contr = t_control_info[t_control_info.user_type=='contributor']"
   ]
  },
  {
   "cell_type": "code",
   "execution_count": null,
   "metadata": {},
   "outputs": [],
   "source": [
    "print(\"Control Group\")\n",
    "print(\"Non_reader: \"+ str(t_control_non_reader.active_mins.mean()))\n",
    "print(\"Reader: \"+ str(t_control_reader.active_mins.mean()))\n",
    "print(\"New_user: \"+ str(t_control_new.active_mins.mean()))\n",
    "print(\"Contributor: \"+ str(t_control_contr.active_mins.mean()))"
   ]
  },
  {
   "cell_type": "code",
   "execution_count": 41,
   "metadata": {},
   "outputs": [],
   "source": [
    "control_demo = control_info.groupby(['gender','user_type']).size().reset_index()\n",
    "control_demo.columns = ['gender','user_type','count']"
   ]
  },
  {
   "cell_type": "code",
   "execution_count": 43,
   "metadata": {},
   "outputs": [],
   "source": [
    "control_demo['group'] = control_demo['gender'] + '-' + control_demo['user_type']"
   ]
  },
  {
   "cell_type": "code",
   "execution_count": 70,
   "metadata": {},
   "outputs": [
    {
     "data": {
      "text/plain": [
       "Text(0.5, 1.0, 'Control Group Composition')"
      ]
     },
     "execution_count": 70,
     "metadata": {},
     "output_type": "execute_result"
    },
    {
     "data": {
      "image/png": "[encoded data removed]",
      "text/plain": [
       "<Figure size 432x288 with 1 Axes>"
      ]
     },
     "metadata": {
      "needs_background": "light"
     },
     "output_type": "display_data"
    }
   ],
   "source": [
    "ax = control_demo.plot.bar(x='group',y='count')\n",
    "ax.set_title(\"Control Group Composition\")"
   ]
  },
  {
   "cell_type": "code",
   "execution_count": 71,
   "metadata": {},
   "outputs": [
    {
     "data": {
      "text/plain": [
       "Text(0.5, 1.0, 'Test Group Composition')"
      ]
     },
     "execution_count": 71,
     "metadata": {},
     "output_type": "execute_result"
    },
    {
     "data": {
      "image/png": "[encoded data removed]",
      "text/plain": [
       "<Figure size 432x288 with 1 Axes>"
      ]
     },
     "metadata": {
      "needs_background": "light"
     },
     "output_type": "display_data"
    }
   ],
   "source": [
    "test_demo = test_info.groupby(['gender','user_type']).size().reset_index()\n",
    "test_demo.columns = ['gender','user_type','count']\n",
    "test_demo['group'] = test_demo['gender'] + '-' + test_demo['user_type']\n",
    "ax = test_demo.plot.bar(x='group',y='count')\n",
    "ax.set_title(\"Test Group Composition\")"
   ]
  },
  {
   "cell_type": "code",
   "execution_count": 46,
   "metadata": {},
   "outputs": [
    {
     "data": {
      "text/html": [
       "<div>\n",
       "<style scoped>\n",
       "    .dataframe tbody tr th:only-of-type {\n",
       "        vertical-align: middle;\n",
       "    }\n",
       "\n",
       "    .dataframe tbody tr th {\n",
       "        vertical-align: top;\n",
       "    }\n",
       "\n",
       "    .dataframe thead th {\n",
       "        text-align: right;\n",
       "    }\n",
       "</style>\n",
       "<table border=\"1\" class=\"dataframe\">\n",
       "  <thead>\n",
       "    <tr style=\"text-align: right;\">\n",
       "      <th></th>\n",
       "      <th>uid</th>\n",
       "      <th>variant_number</th>\n",
       "      <th>experiment_dt</th>\n",
       "      <th>signup_date</th>\n",
       "      <th>dt</th>\n",
       "      <th>active_mins</th>\n",
       "      <th>gender</th>\n",
       "      <th>user_type</th>\n",
       "    </tr>\n",
       "  </thead>\n",
       "  <tbody>\n",
       "    <tr>\n",
       "      <th>0</th>\n",
       "      <td>40000</td>\n",
       "      <td>1</td>\n",
       "      <td>2019-02-06</td>\n",
       "      <td>2019-02-04</td>\n",
       "      <td>2019-02-13</td>\n",
       "      <td>3.0</td>\n",
       "      <td>male</td>\n",
       "      <td>new_user</td>\n",
       "    </tr>\n",
       "    <tr>\n",
       "      <th>1</th>\n",
       "      <td>40000</td>\n",
       "      <td>1</td>\n",
       "      <td>2019-02-06</td>\n",
       "      <td>2019-02-04</td>\n",
       "      <td>2019-03-02</td>\n",
       "      <td>18.0</td>\n",
       "      <td>male</td>\n",
       "      <td>new_user</td>\n",
       "    </tr>\n",
       "    <tr>\n",
       "      <th>2</th>\n",
       "      <td>40000</td>\n",
       "      <td>1</td>\n",
       "      <td>2019-02-06</td>\n",
       "      <td>2019-02-04</td>\n",
       "      <td>2019-03-12</td>\n",
       "      <td>4.0</td>\n",
       "      <td>male</td>\n",
       "      <td>new_user</td>\n",
       "    </tr>\n",
       "    <tr>\n",
       "      <th>3</th>\n",
       "      <td>40001</td>\n",
       "      <td>1</td>\n",
       "      <td>2019-02-06</td>\n",
       "      <td>2017-04-29</td>\n",
       "      <td>2019-02-14</td>\n",
       "      <td>16.0</td>\n",
       "      <td>male</td>\n",
       "      <td>non_reader</td>\n",
       "    </tr>\n",
       "    <tr>\n",
       "      <th>4</th>\n",
       "      <td>40001</td>\n",
       "      <td>1</td>\n",
       "      <td>2019-02-06</td>\n",
       "      <td>2017-04-29</td>\n",
       "      <td>2019-02-17</td>\n",
       "      <td>5.0</td>\n",
       "      <td>male</td>\n",
       "      <td>non_reader</td>\n",
       "    </tr>\n",
       "  </tbody>\n",
       "</table>\n",
       "</div>"
      ],
      "text/plain": [
       "     uid  variant_number experiment_dt signup_date         dt  active_mins  \\\n",
       "0  40000               1    2019-02-06  2019-02-04 2019-02-13          3.0   \n",
       "1  40000               1    2019-02-06  2019-02-04 2019-03-02         18.0   \n",
       "2  40000               1    2019-02-06  2019-02-04 2019-03-12          4.0   \n",
       "3  40001               1    2019-02-06  2017-04-29 2019-02-14         16.0   \n",
       "4  40001               1    2019-02-06  2017-04-29 2019-02-17          5.0   \n",
       "\n",
       "  gender   user_type  \n",
       "0   male    new_user  \n",
       "1   male    new_user  \n",
       "2   male    new_user  \n",
       "3   male  non_reader  \n",
       "4   male  non_reader  "
      ]
     },
     "execution_count": 46,
     "metadata": {},
     "output_type": "execute_result"
    }
   ],
   "source": [
    "t_test_info = t_test_clean.merge(test_info,on='uid')\n",
    "t_test_info.head()"
   ]
  },
  {
   "cell_type": "code",
   "execution_count": 62,
   "metadata": {},
   "outputs": [
    {
     "data": {
      "text/html": [
       "<div>\n",
       "<style scoped>\n",
       "    .dataframe tbody tr th:only-of-type {\n",
       "        vertical-align: middle;\n",
       "    }\n",
       "\n",
       "    .dataframe tbody tr th {\n",
       "        vertical-align: top;\n",
       "    }\n",
       "\n",
       "    .dataframe thead th {\n",
       "        text-align: right;\n",
       "    }\n",
       "</style>\n",
       "<table border=\"1\" class=\"dataframe\">\n",
       "  <thead>\n",
       "    <tr style=\"text-align: right;\">\n",
       "      <th></th>\n",
       "      <th>gender</th>\n",
       "      <th>user_type</th>\n",
       "      <th>mean_active_time</th>\n",
       "      <th>var_active_time</th>\n",
       "      <th>N</th>\n",
       "    </tr>\n",
       "  </thead>\n",
       "  <tbody>\n",
       "    <tr>\n",
       "      <th>0</th>\n",
       "      <td>female</td>\n",
       "      <td>contributor</td>\n",
       "      <td>62.389147</td>\n",
       "      <td>997.348932</td>\n",
       "      <td>150</td>\n",
       "    </tr>\n",
       "    <tr>\n",
       "      <th>1</th>\n",
       "      <td>female</td>\n",
       "      <td>new_user</td>\n",
       "      <td>8.773184</td>\n",
       "      <td>17.179300</td>\n",
       "      <td>150</td>\n",
       "    </tr>\n",
       "    <tr>\n",
       "      <th>2</th>\n",
       "      <td>female</td>\n",
       "      <td>non_reader</td>\n",
       "      <td>10.074299</td>\n",
       "      <td>2.353357</td>\n",
       "      <td>150</td>\n",
       "    </tr>\n",
       "    <tr>\n",
       "      <th>3</th>\n",
       "      <td>female</td>\n",
       "      <td>reader</td>\n",
       "      <td>38.823113</td>\n",
       "      <td>89.076994</td>\n",
       "      <td>150</td>\n",
       "    </tr>\n",
       "    <tr>\n",
       "      <th>4</th>\n",
       "      <td>male</td>\n",
       "      <td>contributor</td>\n",
       "      <td>94.997857</td>\n",
       "      <td>715.526509</td>\n",
       "      <td>150</td>\n",
       "    </tr>\n",
       "  </tbody>\n",
       "</table>\n",
       "</div>"
      ],
      "text/plain": [
       "   gender    user_type  mean_active_time  var_active_time    N\n",
       "0  female  contributor         62.389147       997.348932  150\n",
       "1  female     new_user          8.773184        17.179300  150\n",
       "2  female   non_reader         10.074299         2.353357  150\n",
       "3  female       reader         38.823113        89.076994  150\n",
       "4    male  contributor         94.997857       715.526509  150"
      ]
     },
     "execution_count": 62,
     "metadata": {},
     "output_type": "execute_result"
    }
   ],
   "source": [
    "t_test_by_demo = t_test_info.groupby(['dt','gender','user_type']).active_mins.mean().reset_index()\n",
    "test_by_demo = t_test_by_demo.groupby(['gender','user_type']).agg({'active_mins':['mean','var'],'dt':'count'}).reset_index()\n",
    "test_by_demo.columns = ['gender','user_type','mean_active_time','var_active_time','N']\n",
    "test_by_demo.head()"
   ]
  },
  {
   "cell_type": "code",
   "execution_count": 59,
   "metadata": {},
   "outputs": [
    {
     "data": {
      "text/html": [
       "<div>\n",
       "<style scoped>\n",
       "    .dataframe tbody tr th:only-of-type {\n",
       "        vertical-align: middle;\n",
       "    }\n",
       "\n",
       "    .dataframe tbody tr th {\n",
       "        vertical-align: top;\n",
       "    }\n",
       "\n",
       "    .dataframe thead th {\n",
       "        text-align: right;\n",
       "    }\n",
       "</style>\n",
       "<table border=\"1\" class=\"dataframe\">\n",
       "  <thead>\n",
       "    <tr style=\"text-align: right;\">\n",
       "      <th></th>\n",
       "      <th>gender</th>\n",
       "      <th>user_type</th>\n",
       "      <th>mean_active_time</th>\n",
       "      <th>var_active_time</th>\n",
       "      <th>N</th>\n",
       "    </tr>\n",
       "  </thead>\n",
       "  <tbody>\n",
       "    <tr>\n",
       "      <th>0</th>\n",
       "      <td>female</td>\n",
       "      <td>contributor</td>\n",
       "      <td>52.193626</td>\n",
       "      <td>71.652422</td>\n",
       "      <td>150</td>\n",
       "    </tr>\n",
       "    <tr>\n",
       "      <th>1</th>\n",
       "      <td>female</td>\n",
       "      <td>new_user</td>\n",
       "      <td>5.286266</td>\n",
       "      <td>4.666500</td>\n",
       "      <td>150</td>\n",
       "    </tr>\n",
       "    <tr>\n",
       "      <th>2</th>\n",
       "      <td>female</td>\n",
       "      <td>non_reader</td>\n",
       "      <td>6.237998</td>\n",
       "      <td>0.470906</td>\n",
       "      <td>150</td>\n",
       "    </tr>\n",
       "    <tr>\n",
       "      <th>3</th>\n",
       "      <td>female</td>\n",
       "      <td>reader</td>\n",
       "      <td>26.810553</td>\n",
       "      <td>3.519258</td>\n",
       "      <td>150</td>\n",
       "    </tr>\n",
       "    <tr>\n",
       "      <th>4</th>\n",
       "      <td>male</td>\n",
       "      <td>contributor</td>\n",
       "      <td>69.710656</td>\n",
       "      <td>38.247828</td>\n",
       "      <td>150</td>\n",
       "    </tr>\n",
       "  </tbody>\n",
       "</table>\n",
       "</div>"
      ],
      "text/plain": [
       "   gender    user_type  mean_active_time  var_active_time    N\n",
       "0  female  contributor         52.193626        71.652422  150\n",
       "1  female     new_user          5.286266         4.666500  150\n",
       "2  female   non_reader          6.237998         0.470906  150\n",
       "3  female       reader         26.810553         3.519258  150\n",
       "4    male  contributor         69.710656        38.247828  150"
      ]
     },
     "execution_count": 59,
     "metadata": {},
     "output_type": "execute_result"
    }
   ],
   "source": [
    "t_control_info = t_control_clean.merge(control_info,on='uid')\n",
    "t_control_by_demo = t_control_info.groupby(['dt','gender','user_type']).active_mins.mean().reset_index()\n",
    "control_by_demo = t_control_by_demo.groupby(['gender','user_type']).agg({'active_mins':['mean','var'],'dt':'count'}).reset_index()\n",
    "control_by_demo.columns = ['gender','user_type','mean_active_time','var_active_time','N']\n",
    "control_by_demo.head()"
   ]
  },
  {
   "cell_type": "code",
   "execution_count": 63,
   "metadata": {},
   "outputs": [],
   "source": [
    "demo_comp = test_by_demo.merge(control_by_demo,on=['gender','user_type'])"
   ]
  },
  {
   "cell_type": "code",
   "execution_count": 64,
   "metadata": {},
   "outputs": [
    {
     "data": {
      "text/html": [
       "<div>\n",
       "<style scoped>\n",
       "    .dataframe tbody tr th:only-of-type {\n",
       "        vertical-align: middle;\n",
       "    }\n",
       "\n",
       "    .dataframe tbody tr th {\n",
       "        vertical-align: top;\n",
       "    }\n",
       "\n",
       "    .dataframe thead th {\n",
       "        text-align: right;\n",
       "    }\n",
       "</style>\n",
       "<table border=\"1\" class=\"dataframe\">\n",
       "  <thead>\n",
       "    <tr style=\"text-align: right;\">\n",
       "      <th></th>\n",
       "      <th>gender</th>\n",
       "      <th>user_type</th>\n",
       "      <th>mean_active_time_x</th>\n",
       "      <th>var_active_time_x</th>\n",
       "      <th>N_x</th>\n",
       "      <th>mean_active_time_y</th>\n",
       "      <th>var_active_time_y</th>\n",
       "      <th>N_y</th>\n",
       "    </tr>\n",
       "  </thead>\n",
       "  <tbody>\n",
       "    <tr>\n",
       "      <th>0</th>\n",
       "      <td>female</td>\n",
       "      <td>contributor</td>\n",
       "      <td>62.389147</td>\n",
       "      <td>997.348932</td>\n",
       "      <td>150</td>\n",
       "      <td>52.193626</td>\n",
       "      <td>71.652422</td>\n",
       "      <td>150</td>\n",
       "    </tr>\n",
       "    <tr>\n",
       "      <th>1</th>\n",
       "      <td>female</td>\n",
       "      <td>new_user</td>\n",
       "      <td>8.773184</td>\n",
       "      <td>17.179300</td>\n",
       "      <td>150</td>\n",
       "      <td>5.286266</td>\n",
       "      <td>4.666500</td>\n",
       "      <td>150</td>\n",
       "    </tr>\n",
       "    <tr>\n",
       "      <th>2</th>\n",
       "      <td>female</td>\n",
       "      <td>non_reader</td>\n",
       "      <td>10.074299</td>\n",
       "      <td>2.353357</td>\n",
       "      <td>150</td>\n",
       "      <td>6.237998</td>\n",
       "      <td>0.470906</td>\n",
       "      <td>150</td>\n",
       "    </tr>\n",
       "    <tr>\n",
       "      <th>3</th>\n",
       "      <td>female</td>\n",
       "      <td>reader</td>\n",
       "      <td>38.823113</td>\n",
       "      <td>89.076994</td>\n",
       "      <td>150</td>\n",
       "      <td>26.810553</td>\n",
       "      <td>3.519258</td>\n",
       "      <td>150</td>\n",
       "    </tr>\n",
       "    <tr>\n",
       "      <th>4</th>\n",
       "      <td>male</td>\n",
       "      <td>contributor</td>\n",
       "      <td>94.997857</td>\n",
       "      <td>715.526509</td>\n",
       "      <td>150</td>\n",
       "      <td>69.710656</td>\n",
       "      <td>38.247828</td>\n",
       "      <td>150</td>\n",
       "    </tr>\n",
       "  </tbody>\n",
       "</table>\n",
       "</div>"
      ],
      "text/plain": [
       "   gender    user_type  mean_active_time_x  var_active_time_x  N_x  \\\n",
       "0  female  contributor           62.389147         997.348932  150   \n",
       "1  female     new_user            8.773184          17.179300  150   \n",
       "2  female   non_reader           10.074299           2.353357  150   \n",
       "3  female       reader           38.823113          89.076994  150   \n",
       "4    male  contributor           94.997857         715.526509  150   \n",
       "\n",
       "   mean_active_time_y  var_active_time_y  N_y  \n",
       "0           52.193626          71.652422  150  \n",
       "1            5.286266           4.666500  150  \n",
       "2            6.237998           0.470906  150  \n",
       "3           26.810553           3.519258  150  \n",
       "4           69.710656          38.247828  150  "
      ]
     },
     "execution_count": 64,
     "metadata": {},
     "output_type": "execute_result"
    }
   ],
   "source": [
    "demo_comp.head()"
   ]
  },
  {
   "cell_type": "code",
   "execution_count": 65,
   "metadata": {},
   "outputs": [
    {
     "data": {
      "text/html": [
       "<div>\n",
       "<style scoped>\n",
       "    .dataframe tbody tr th:only-of-type {\n",
       "        vertical-align: middle;\n",
       "    }\n",
       "\n",
       "    .dataframe tbody tr th {\n",
       "        vertical-align: top;\n",
       "    }\n",
       "\n",
       "    .dataframe thead th {\n",
       "        text-align: right;\n",
       "    }\n",
       "</style>\n",
       "<table border=\"1\" class=\"dataframe\">\n",
       "  <thead>\n",
       "    <tr style=\"text-align: right;\">\n",
       "      <th></th>\n",
       "      <th>gender</th>\n",
       "      <th>user_type</th>\n",
       "      <th>test_mean_mins</th>\n",
       "      <th>test_var_mins</th>\n",
       "      <th>test_N</th>\n",
       "      <th>control_mean_mins</th>\n",
       "      <th>control_var_mins</th>\n",
       "      <th>control_N</th>\n",
       "    </tr>\n",
       "  </thead>\n",
       "  <tbody>\n",
       "    <tr>\n",
       "      <th>0</th>\n",
       "      <td>female</td>\n",
       "      <td>contributor</td>\n",
       "      <td>62.389147</td>\n",
       "      <td>997.348932</td>\n",
       "      <td>150</td>\n",
       "      <td>52.193626</td>\n",
       "      <td>71.652422</td>\n",
       "      <td>150</td>\n",
       "    </tr>\n",
       "    <tr>\n",
       "      <th>1</th>\n",
       "      <td>female</td>\n",
       "      <td>new_user</td>\n",
       "      <td>8.773184</td>\n",
       "      <td>17.179300</td>\n",
       "      <td>150</td>\n",
       "      <td>5.286266</td>\n",
       "      <td>4.666500</td>\n",
       "      <td>150</td>\n",
       "    </tr>\n",
       "    <tr>\n",
       "      <th>2</th>\n",
       "      <td>female</td>\n",
       "      <td>non_reader</td>\n",
       "      <td>10.074299</td>\n",
       "      <td>2.353357</td>\n",
       "      <td>150</td>\n",
       "      <td>6.237998</td>\n",
       "      <td>0.470906</td>\n",
       "      <td>150</td>\n",
       "    </tr>\n",
       "    <tr>\n",
       "      <th>3</th>\n",
       "      <td>female</td>\n",
       "      <td>reader</td>\n",
       "      <td>38.823113</td>\n",
       "      <td>89.076994</td>\n",
       "      <td>150</td>\n",
       "      <td>26.810553</td>\n",
       "      <td>3.519258</td>\n",
       "      <td>150</td>\n",
       "    </tr>\n",
       "    <tr>\n",
       "      <th>4</th>\n",
       "      <td>male</td>\n",
       "      <td>contributor</td>\n",
       "      <td>94.997857</td>\n",
       "      <td>715.526509</td>\n",
       "      <td>150</td>\n",
       "      <td>69.710656</td>\n",
       "      <td>38.247828</td>\n",
       "      <td>150</td>\n",
       "    </tr>\n",
       "  </tbody>\n",
       "</table>\n",
       "</div>"
      ],
      "text/plain": [
       "   gender    user_type  test_mean_mins  test_var_mins  test_N  \\\n",
       "0  female  contributor       62.389147     997.348932     150   \n",
       "1  female     new_user        8.773184      17.179300     150   \n",
       "2  female   non_reader       10.074299       2.353357     150   \n",
       "3  female       reader       38.823113      89.076994     150   \n",
       "4    male  contributor       94.997857     715.526509     150   \n",
       "\n",
       "   control_mean_mins  control_var_mins  control_N  \n",
       "0          52.193626         71.652422        150  \n",
       "1           5.286266          4.666500        150  \n",
       "2           6.237998          0.470906        150  \n",
       "3          26.810553          3.519258        150  \n",
       "4          69.710656         38.247828        150  "
      ]
     },
     "execution_count": 65,
     "metadata": {},
     "output_type": "execute_result"
    }
   ],
   "source": [
    "demo_comp.columns = ['gender','user_type','test_mean_mins','test_var_mins','test_N','control_mean_mins','control_var_mins','control_N']\n",
    "demo_comp.head()"
   ]
  },
  {
   "cell_type": "code",
   "execution_count": 68,
   "metadata": {},
   "outputs": [
    {
     "data": {
      "text/html": [
       "<div>\n",
       "<style scoped>\n",
       "    .dataframe tbody tr th:only-of-type {\n",
       "        vertical-align: middle;\n",
       "    }\n",
       "\n",
       "    .dataframe tbody tr th {\n",
       "        vertical-align: top;\n",
       "    }\n",
       "\n",
       "    .dataframe thead th {\n",
       "        text-align: right;\n",
       "    }\n",
       "</style>\n",
       "<table border=\"1\" class=\"dataframe\">\n",
       "  <thead>\n",
       "    <tr style=\"text-align: right;\">\n",
       "      <th></th>\n",
       "      <th>gender</th>\n",
       "      <th>user_type</th>\n",
       "      <th>test_mean_mins</th>\n",
       "      <th>test_var_mins</th>\n",
       "      <th>test_N</th>\n",
       "      <th>control_mean_mins</th>\n",
       "      <th>control_var_mins</th>\n",
       "      <th>control_N</th>\n",
       "      <th>CI_lower</th>\n",
       "      <th>CI_upper</th>\n",
       "    </tr>\n",
       "  </thead>\n",
       "  <tbody>\n",
       "    <tr>\n",
       "      <th>0</th>\n",
       "      <td>female</td>\n",
       "      <td>contributor</td>\n",
       "      <td>62.389147</td>\n",
       "      <td>997.348932</td>\n",
       "      <td>150</td>\n",
       "      <td>52.193626</td>\n",
       "      <td>71.652422</td>\n",
       "      <td>150</td>\n",
       "      <td>4.963138</td>\n",
       "      <td>15.427905</td>\n",
       "    </tr>\n",
       "    <tr>\n",
       "      <th>1</th>\n",
       "      <td>female</td>\n",
       "      <td>new_user</td>\n",
       "      <td>8.773184</td>\n",
       "      <td>17.179300</td>\n",
       "      <td>150</td>\n",
       "      <td>5.286266</td>\n",
       "      <td>4.666500</td>\n",
       "      <td>150</td>\n",
       "      <td>2.738930</td>\n",
       "      <td>4.234906</td>\n",
       "    </tr>\n",
       "    <tr>\n",
       "      <th>2</th>\n",
       "      <td>female</td>\n",
       "      <td>non_reader</td>\n",
       "      <td>10.074299</td>\n",
       "      <td>2.353357</td>\n",
       "      <td>150</td>\n",
       "      <td>6.237998</td>\n",
       "      <td>0.470906</td>\n",
       "      <td>150</td>\n",
       "      <td>3.567356</td>\n",
       "      <td>4.105246</td>\n",
       "    </tr>\n",
       "    <tr>\n",
       "      <th>3</th>\n",
       "      <td>female</td>\n",
       "      <td>reader</td>\n",
       "      <td>38.823113</td>\n",
       "      <td>89.076994</td>\n",
       "      <td>150</td>\n",
       "      <td>26.810553</td>\n",
       "      <td>3.519258</td>\n",
       "      <td>150</td>\n",
       "      <td>10.472608</td>\n",
       "      <td>13.552511</td>\n",
       "    </tr>\n",
       "    <tr>\n",
       "      <th>4</th>\n",
       "      <td>male</td>\n",
       "      <td>contributor</td>\n",
       "      <td>94.997857</td>\n",
       "      <td>715.526509</td>\n",
       "      <td>150</td>\n",
       "      <td>69.710656</td>\n",
       "      <td>38.247828</td>\n",
       "      <td>150</td>\n",
       "      <td>20.893494</td>\n",
       "      <td>29.680908</td>\n",
       "    </tr>\n",
       "  </tbody>\n",
       "</table>\n",
       "</div>"
      ],
      "text/plain": [
       "   gender    user_type  test_mean_mins  test_var_mins  test_N  \\\n",
       "0  female  contributor       62.389147     997.348932     150   \n",
       "1  female     new_user        8.773184      17.179300     150   \n",
       "2  female   non_reader       10.074299       2.353357     150   \n",
       "3  female       reader       38.823113      89.076994     150   \n",
       "4    male  contributor       94.997857     715.526509     150   \n",
       "\n",
       "   control_mean_mins  control_var_mins  control_N   CI_lower   CI_upper  \n",
       "0          52.193626         71.652422        150   4.963138  15.427905  \n",
       "1           5.286266          4.666500        150   2.738930   4.234906  \n",
       "2           6.237998          0.470906        150   3.567356   4.105246  \n",
       "3          26.810553          3.519258        150  10.472608  13.552511  \n",
       "4          69.710656         38.247828        150  20.893494  29.680908  "
      ]
     },
     "execution_count": 68,
     "metadata": {},
     "output_type": "execute_result"
    }
   ],
   "source": [
    "demo_comp['CI_lower'] = demo_comp.test_mean_mins - demo_comp.control_mean_mins - t_q*np.sqrt(demo_comp.test_var_mins/demo_comp.test_N + demo_comp.control_var_mins/demo_comp.control_N)\n",
    "demo_comp['CI_upper'] = demo_comp.test_mean_mins - demo_comp.control_mean_mins + t_q*np.sqrt(demo_comp.test_var_mins/demo_comp.test_N + demo_comp.control_var_mins/demo_comp.control_N)\n"
   ]
  },
  {
   "cell_type": "code",
   "execution_count": 72,
   "metadata": {},
   "outputs": [],
   "source": [
    "demo_comp.to_csv(\"problem4.csv\")"
   ]
  }
 ],
 "metadata": {
  "kernelspec": {
   "display_name": "Python 3",
   "language": "python",
   "name": "python3"
  },
  "language_info": {
   "codemirror_mode": {
    "name": "ipython",
    "version": 3
   },
   "file_extension": ".py",
   "mimetype": "text/x-python",
   "name": "python",
   "nbconvert_exporter": "python",
   "pygments_lexer": "ipython3",
   "version": "3.7.3"
  }
 },
 "nbformat": 4,
 "nbformat_minor": 2
}
