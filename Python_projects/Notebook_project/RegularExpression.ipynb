{
 "cells": [
  {
   "cell_type": "code",
   "execution_count": 22,
   "metadata": {},
   "outputs": [],
   "source": [
    "import re\n",
    "text = 'Data ScieNc85, Machine Learning 97, Data Wrangling   ,algorithms, Cs9'\n",
    "pattern = re.compile(r'([A-Z])\\w.|([0-9])')\n",
    "matches = pattern.findall(text)"
   ]
  },
  {
   "cell_type": "code",
   "execution_count": 23,
   "metadata": {},
   "outputs": [
    {
     "name": "stdout",
     "output_type": "stream",
     "text": [
      "('D', '')\n",
      "('S', '')\n",
      "('N', '')\n",
      "('', '5')\n",
      "('M', '')\n",
      "('L', '')\n",
      "('', '9')\n",
      "('', '7')\n",
      "('D', '')\n",
      "('W', '')\n",
      "('C', '')\n"
     ]
    }
   ],
   "source": [
    "for i in matches:\n",
    "    print(i)"
   ]
  },
  {
   "cell_type": "code",
   "execution_count": 29,
   "metadata": {},
   "outputs": [
    {
     "name": "stdout",
     "output_type": "stream",
     "text": [
      "Dat\n",
      "Sci\n",
      "Nc8\n",
      "5\n",
      "Mac\n",
      "Lea\n",
      "9\n",
      "7\n",
      "Dat\n",
      "Wra\n",
      "Cs9\n"
     ]
    }
   ],
   "source": [
    "pattern = re.compile(r'([A-Z])\\w.|([0-9])')\n",
    "matches = pattern.finditer(text)\n",
    "for i in matches:\n",
    "    print(i.group())"
   ]
  },
  {
   "cell_type": "code",
   "execution_count": 37,
   "metadata": {},
   "outputs": [
    {
     "data": {
      "text/plain": [
       "['1 goal', '1 mm', '1 pp', '2 goal', '2 mm', '2 pp', '3 goal', '3 mm', '3 pp']"
      ]
     },
     "execution_count": 37,
     "metadata": {},
     "output_type": "execute_result"
    }
   ],
   "source": [
    "number = [1, 2, 3]\n",
    "word = ['goal', 'mm', 'pp']\n",
    "answer = [str(num)+ ' ' + wd for num in number for wd in word]\n",
    "answer"
   ]
  },
  {
   "cell_type": "code",
   "execution_count": 38,
   "metadata": {},
   "outputs": [
    {
     "name": "stdout",
     "output_type": "stream",
     "text": [
      "1 2\n",
      "3 4\n"
     ]
    }
   ],
   "source": [
    "x = [(1,2),(3,4)]\n",
    "for i, j in x:\n",
    "    print(i, j)"
   ]
  },
  {
   "cell_type": "code",
   "execution_count": null,
   "metadata": {},
   "outputs": [],
   "source": []
  }
 ],
 "metadata": {
  "kernelspec": {
   "display_name": "Python 3",
   "language": "python",
   "name": "python3"
  },
  "language_info": {
   "codemirror_mode": {
    "name": "ipython",
    "version": 3
   },
   "file_extension": ".py",
   "mimetype": "text/x-python",
   "name": "python",
   "nbconvert_exporter": "python",
   "pygments_lexer": "ipython3",
   "version": "3.7.3"
  }
 },
 "nbformat": 4,
 "nbformat_minor": 2
}
